{
  "nbformat": 4,
  "nbformat_minor": 0,
  "metadata": {
    "colab": {
      "provenance": []
    },
    "kernelspec": {
      "name": "python3",
      "display_name": "Python 3"
    },
    "language_info": {
      "name": "python"
    }
  },
  "cells": [
    {
      "cell_type": "code",
      "execution_count": 9,
      "metadata": {
        "colab": {
          "base_uri": "https://localhost:8080/"
        },
        "id": "k-h0aBYe_Uaj",
        "outputId": "7179e5c0-768e-42b7-fdc7-abfd854eba3b"
      },
      "outputs": [
        {
          "output_type": "stream",
          "name": "stdout",
          "text": [
            "   customerid  churn  age  gender  tenure  numofproducts  estimatedsalary\n",
            "0   768805383      0   45    Male      39              5            70000\n",
            "1   818770008      0   49  Female      44              6            40000\n",
            "2   713982108      0   51    Male      36              4           100000\n",
            "3   769911858      0   40  Female      34              3            40000\n",
            "4   709106358      0   40    Male      21              5            70000\n"
          ]
        },
        {
          "output_type": "stream",
          "name": "stderr",
          "text": [
            "<ipython-input-9-16317fff81d3>:28: SettingWithCopyWarning: \n",
            "A value is trying to be set on a copy of a slice from a DataFrame.\n",
            "Try using .loc[row_indexer,col_indexer] = value instead\n",
            "\n",
            "See the caveats in the documentation: https://pandas.pydata.org/pandas-docs/stable/user_guide/indexing.html#returning-a-view-versus-a-copy\n",
            "  df2_cleaned['estimatedsalary'] = df2_cleaned['estimatedsalary'].map(income_mapping)\n",
            "<ipython-input-9-16317fff81d3>:29: SettingWithCopyWarning: \n",
            "A value is trying to be set on a copy of a slice from a DataFrame.\n",
            "Try using .loc[row_indexer,col_indexer] = value instead\n",
            "\n",
            "See the caveats in the documentation: https://pandas.pydata.org/pandas-docs/stable/user_guide/indexing.html#returning-a-view-versus-a-copy\n",
            "  df2_cleaned['gender'] = df2_cleaned['gender'].map(gender_mapping)\n"
          ]
        }
      ],
      "source": [
        "import pandas as pd\n",
        "\n",
        "# Load both datasets\n",
        "df1 = pd.read_csv('/content/data2/Bank_churn_Dataset1.csv')\n",
        "df2 = pd.read_csv('/content/data2/Bank_churn_Dataset2.csv')\n",
        "\n",
        "# Select and rename columns in df2 to match df1\n",
        "df2_cleaned = df2[['clientnum', 'churn', 'customer_age', 'gender', 'months_on_book', 'total_relationship_count', 'income_category']]\n",
        "\n",
        "# Rename columns to match df1\n",
        "df2_cleaned.columns = ['customerid', 'churn', 'age', 'gender', 'tenure', 'numofproducts', 'estimatedsalary']\n",
        "\n",
        "# Convert categorical 'income_category' to a numerical form for 'estimatedsalary'\n",
        "# You may customize this mapping based on your preference\n",
        "income_mapping = {\n",
        "    'Less than $40K': 40000,\n",
        "    '$40K - $60K': 50000,\n",
        "    '$60K - $80K': 70000,\n",
        "    '$80K - $120K': 100000,\n",
        "    '$120K +': 120000,\n",
        "    'Unknown': 0  # or handle it in another way\n",
        "}\n",
        "gender_mapping = {\n",
        "    'M': 'Male',\n",
        "    'F': 'Female',\n",
        "    'Unknown': 0\n",
        "}\n",
        "df2_cleaned['estimatedsalary'] = df2_cleaned['estimatedsalary'].map(income_mapping)\n",
        "df2_cleaned['gender'] = df2_cleaned['gender'].map(gender_mapping)\n",
        "# Show the cleaned dataframe\n",
        "print(df2_cleaned.head())\n",
        "\n",
        "# Save the cleaned dataset to a new CSV file if needed\n",
        "df2_cleaned.to_csv('Bank_churn_Dataset2_cleaned.csv', index=False)\n"
      ]
    },
    {
      "cell_type": "code",
      "source": [
        "# Load the first dataset (if not already loaded)\n",
        "df1 = pd.read_csv('/content/data2/Bank_churn_Dataset1.csv')\n",
        "\n",
        "# Select only the required columns\n",
        "df1_cleaned = df1[['customerid', 'churn', 'age', 'gender', 'tenure', 'numofproducts', 'estimatedsalary']]\n",
        "\n",
        "# Show the cleaned dataframe\n",
        "print(df1_cleaned.head())\n",
        "\n",
        "# Save the cleaned first dataset to a new CSV file if needed\n",
        "df1_cleaned.to_csv('Bank_churn_Dataset1_cleaned.csv', index=False)"
      ],
      "metadata": {
        "colab": {
          "base_uri": "https://localhost:8080/"
        },
        "id": "5J5bXtohAPgN",
        "outputId": "a8961c02-4ce4-4acd-cd1f-0bb5f90b6755"
      },
      "execution_count": 10,
      "outputs": [
        {
          "output_type": "stream",
          "name": "stdout",
          "text": [
            "   customerid  churn  age  gender  tenure  numofproducts  estimatedsalary\n",
            "0    15634602      1   42  Female       2              1        101348.88\n",
            "1    15647311      0   41  Female       1              1        112542.58\n",
            "2    15619304      1   42  Female       8              3        113931.57\n",
            "3    15701354      0   39  Female       1              2         93826.63\n",
            "4    15737888      0   43  Female       2              1         79084.10\n"
          ]
        }
      ]
    },
    {
      "cell_type": "code",
      "source": [
        "import pandas as pd\n",
        "import matplotlib.pyplot as plt\n",
        "import seaborn as sns\n",
        "\n",
        "# Load cleaned datasets\n",
        "df1_cleaned = pd.read_csv('Bank_churn_Dataset1_cleaned.csv')\n",
        "df2_cleaned = pd.read_csv('Bank_churn_Dataset2_cleaned.csv')\n",
        "\n",
        "# Function for quick EDA\n",
        "def quick_eda(df, dataset_name):\n",
        "    print(f\"\\n{dataset_name} - First 5 Rows:\")\n",
        "    print(df.head())\n",
        "\n",
        "    print(f\"\\n{dataset_name} - Info:\")\n",
        "    print(df.info())\n",
        "\n",
        "    print(f\"\\n{dataset_name} - Descriptive Statistics:\")\n",
        "    print(df.describe())\n",
        "\n",
        "    # Plotting churn distribution\n",
        "    plt.figure(figsize=(8, 4))\n",
        "    sns.countplot(data=df, x='churn', palette='Set2')\n",
        "    plt.title(f'{dataset_name} - Churn Distribution')\n",
        "    plt.xlabel('Churn')\n",
        "    plt.ylabel('Count')\n",
        "    plt.xticks(ticks=[0, 1], labels=['Not Churned', 'Churned'])\n",
        "    plt.show()\n",
        "\n",
        "# Perform EDA\n",
        "quick_eda(df1_cleaned, 'Bank Churn Dataset 1')\n",
        "quick_eda(df2_cleaned, 'Bank Churn Dataset 2')"
      ],
      "metadata": {
        "colab": {
          "base_uri": "https://localhost:8080/",
          "height": 1000
        },
        "id": "DpMb3N3RGMpE",
        "outputId": "3ffa3be2-5ed1-433b-a184-deef7b7d4ad7"
      },
      "execution_count": 11,
      "outputs": [
        {
          "output_type": "stream",
          "name": "stdout",
          "text": [
            "\n",
            "Bank Churn Dataset 1 - First 5 Rows:\n",
            "   customerid  churn  age  gender  tenure  numofproducts  estimatedsalary\n",
            "0    15634602      1   42  Female       2              1        101348.88\n",
            "1    15647311      0   41  Female       1              1        112542.58\n",
            "2    15619304      1   42  Female       8              3        113931.57\n",
            "3    15701354      0   39  Female       1              2         93826.63\n",
            "4    15737888      0   43  Female       2              1         79084.10\n",
            "\n",
            "Bank Churn Dataset 1 - Info:\n",
            "<class 'pandas.core.frame.DataFrame'>\n",
            "RangeIndex: 10000 entries, 0 to 9999\n",
            "Data columns (total 7 columns):\n",
            " #   Column           Non-Null Count  Dtype  \n",
            "---  ------           --------------  -----  \n",
            " 0   customerid       10000 non-null  int64  \n",
            " 1   churn            10000 non-null  int64  \n",
            " 2   age              10000 non-null  int64  \n",
            " 3   gender           10000 non-null  object \n",
            " 4   tenure           10000 non-null  int64  \n",
            " 5   numofproducts    10000 non-null  int64  \n",
            " 6   estimatedsalary  10000 non-null  float64\n",
            "dtypes: float64(1), int64(5), object(1)\n",
            "memory usage: 547.0+ KB\n",
            "None\n",
            "\n",
            "Bank Churn Dataset 1 - Descriptive Statistics:\n",
            "         customerid         churn           age        tenure  numofproducts  \\\n",
            "count  1.000000e+04  10000.000000  10000.000000  10000.000000   10000.000000   \n",
            "mean   1.569094e+07      0.203700     38.921800      5.012800       1.530200   \n",
            "std    7.193619e+04      0.402769     10.487806      2.892174       0.581654   \n",
            "min    1.556570e+07      0.000000     18.000000      0.000000       1.000000   \n",
            "25%    1.562853e+07      0.000000     32.000000      3.000000       1.000000   \n",
            "50%    1.569074e+07      0.000000     37.000000      5.000000       1.000000   \n",
            "75%    1.575323e+07      0.000000     44.000000      7.000000       2.000000   \n",
            "max    1.581569e+07      1.000000     92.000000     10.000000       4.000000   \n",
            "\n",
            "       estimatedsalary  \n",
            "count     10000.000000  \n",
            "mean     100090.239881  \n",
            "std       57510.492818  \n",
            "min          11.580000  \n",
            "25%       51002.110000  \n",
            "50%      100193.915000  \n",
            "75%      149388.247500  \n",
            "max      199992.480000  \n"
          ]
        },
        {
          "output_type": "stream",
          "name": "stderr",
          "text": [
            "<ipython-input-11-c5f0dff64a8d>:22: FutureWarning: \n",
            "\n",
            "Passing `palette` without assigning `hue` is deprecated and will be removed in v0.14.0. Assign the `x` variable to `hue` and set `legend=False` for the same effect.\n",
            "\n",
            "  sns.countplot(data=df, x='churn', palette='Set2')\n"
          ]
        },
        {
          "output_type": "display_data",
          "data": {
            "text/plain": [
              "<Figure size 800x400 with 1 Axes>"
            ],
            "image/png": "[encoded data removed]"
          },
          "metadata": {}
        },
        {
          "output_type": "stream",
          "name": "stdout",
          "text": [
            "\n",
            "Bank Churn Dataset 2 - First 5 Rows:\n",
            "   customerid  churn  age  gender  tenure  numofproducts  estimatedsalary\n",
            "0   768805383      0   45    Male      39              5            70000\n",
            "1   818770008      0   49  Female      44              6            40000\n",
            "2   713982108      0   51    Male      36              4           100000\n",
            "3   769911858      0   40  Female      34              3            40000\n",
            "4   709106358      0   40    Male      21              5            70000\n",
            "\n",
            "Bank Churn Dataset 2 - Info:\n",
            "<class 'pandas.core.frame.DataFrame'>\n",
            "RangeIndex: 10127 entries, 0 to 10126\n",
            "Data columns (total 7 columns):\n",
            " #   Column           Non-Null Count  Dtype \n",
            "---  ------           --------------  ----- \n",
            " 0   customerid       10127 non-null  int64 \n",
            " 1   churn            10127 non-null  int64 \n",
            " 2   age              10127 non-null  int64 \n",
            " 3   gender           10127 non-null  object\n",
            " 4   tenure           10127 non-null  int64 \n",
            " 5   numofproducts    10127 non-null  int64 \n",
            " 6   estimatedsalary  10127 non-null  int64 \n",
            "dtypes: int64(6), object(1)\n",
            "memory usage: 553.9+ KB\n",
            "None\n",
            "\n",
            "Bank Churn Dataset 2 - Descriptive Statistics:\n",
            "         customerid         churn           age        tenure  numofproducts  \\\n",
            "count  1.012700e+04  10127.000000  10127.000000  10127.000000   10127.000000   \n",
            "mean   7.391776e+08      0.160660     46.325960     35.928409       3.812580   \n",
            "std    3.690378e+07      0.367235      8.016814      7.986416       1.554408   \n",
            "min    7.080821e+08      0.000000     26.000000     13.000000       1.000000   \n",
            "25%    7.130368e+08      0.000000     41.000000     31.000000       3.000000   \n",
            "50%    7.179264e+08      0.000000     46.000000     36.000000       4.000000   \n",
            "75%    7.731435e+08      0.000000     52.000000     40.000000       5.000000   \n",
            "max    8.283431e+08      1.000000     73.000000     56.000000       6.000000   \n",
            "\n",
            "       estimatedsalary  \n",
            "count     10127.000000  \n",
            "mean      56366.149896  \n",
            "std       32485.847229  \n",
            "min           0.000000  \n",
            "25%       40000.000000  \n",
            "50%       50000.000000  \n",
            "75%       70000.000000  \n",
            "max      120000.000000  \n"
          ]
        },
        {
          "output_type": "stream",
          "name": "stderr",
          "text": [
            "<ipython-input-11-c5f0dff64a8d>:22: FutureWarning: \n",
            "\n",
            "Passing `palette` without assigning `hue` is deprecated and will be removed in v0.14.0. Assign the `x` variable to `hue` and set `legend=False` for the same effect.\n",
            "\n",
            "  sns.countplot(data=df, x='churn', palette='Set2')\n"
          ]
        },
        {
          "output_type": "display_data",
          "data": {
            "text/plain": [
              "<Figure size 800x400 with 1 Axes>"
            ],
            "image/png": "[encoded data removed]"
          },
          "metadata": {}
        }
      ]
    },
    {
      "cell_type": "code",
      "source": [
        "from sklearn.preprocessing import LabelEncoder, StandardScaler\n",
        "\n",
        "# Combine datasets for preprocessing\n",
        "combined_df = pd.concat([df1_cleaned, df2_cleaned], ignore_index=True)\n",
        "\n",
        "# Encode categorical variables\n",
        "label_encoder = LabelEncoder()\n",
        "combined_df['gender'] = label_encoder.fit_transform(combined_df['gender'])\n",
        "\n",
        "# Scaling numerical features\n",
        "scaler = StandardScaler()\n",
        "combined_df[['age', 'tenure', 'numofproducts', 'estimatedsalary']] = scaler.fit_transform(\n",
        "    combined_df[['age', 'tenure', 'numofproducts', 'estimatedsalary']]\n",
        ")\n",
        "\n",
        "# Split back into original datasets\n",
        "df1_processed = combined_df.iloc[:len(df1_cleaned)]\n",
        "df2_processed = combined_df.iloc[len(df1_cleaned):]\n",
        "\n",
        "# Verify the preprocessing\n",
        "print(df1_processed.head())\n",
        "print(df2_processed.head())"
      ],
      "metadata": {
        "colab": {
          "base_uri": "https://localhost:8080/"
        },
        "id": "qzVazuBBGRfr",
        "outputId": "1bf7a61e-7cc9-4175-8bff-905376c3ebc0"
      },
      "execution_count": 12,
      "outputs": [
        {
          "output_type": "stream",
          "name": "stdout",
          "text": [
            "   customerid  churn       age  gender    tenure  numofproducts  \\\n",
            "0    15634602      1 -0.064504       0 -1.119336      -1.024229   \n",
            "1    15647311      0 -0.164164       0 -1.179619      -1.024229   \n",
            "2    15619304      1 -0.064504       0 -0.757641       0.196115   \n",
            "3    15701354      0 -0.363484       0 -1.179619      -0.414057   \n",
            "4    15737888      0  0.035156       0 -1.119336      -1.024229   \n",
            "\n",
            "   estimatedsalary  \n",
            "0         0.451645  \n",
            "1         0.669009  \n",
            "2         0.695981  \n",
            "3         0.305575  \n",
            "4         0.019299  \n",
            "       customerid  churn       age  gender    tenure  numofproducts  \\\n",
            "10000   768805383      0  0.234476       1  1.111121       1.416459   \n",
            "10001   818770008      0  0.633116       0  1.412534       2.026631   \n",
            "10002   713982108      0  0.832435       1  0.930273       0.806287   \n",
            "10003   769911858      0 -0.263824       0  0.809708       0.196115   \n",
            "10004   709106358      0 -0.263824       1  0.026034       1.416459   \n",
            "\n",
            "       estimatedsalary  \n",
            "10000        -0.157100  \n",
            "10001        -0.739651  \n",
            "10002         0.425452  \n",
            "10003        -0.739651  \n",
            "10004        -0.157100  \n"
          ]
        }
      ]
    },
    {
      "cell_type": "code",
      "source": [
        "# Already processed in the previous step\n",
        "combined_df = pd.concat([df1_cleaned, df2_cleaned], ignore_index=True)\n",
        "\n",
        "# Encode categorical variables and scale features (similar as before)\n",
        "combined_df['gender'] = label_encoder.fit_transform(combined_df['gender'])\n",
        "combined_df[['age', 'tenure', 'numofproducts', 'estimatedsalary']] = scaler.fit_transform(\n",
        "    combined_df[['age', 'tenure', 'numofproducts', 'estimatedsalary']]\n",
        ")"
      ],
      "metadata": {
        "id": "Zv2rfKXkGvgr"
      },
      "execution_count": 14,
      "outputs": []
    },
    {
      "cell_type": "code",
      "source": [
        "# Prepare features and target using combined dataset\n",
        "X = combined_df[['age', 'gender', 'tenure', 'numofproducts', 'estimatedsalary']]\n",
        "y = combined_df['churn']\n",
        "\n",
        "# Split data into training and testing sets\n",
        "X_train, X_test, y_train, y_test = train_test_split(X, y, test_size=0.2, random_state=42)\n",
        "\n",
        "# Initialize and train the Logistic Regression model\n",
        "model = LogisticRegression()\n",
        "model.fit(X_train, y_train)\n",
        "\n",
        "# Make predictions\n",
        "y_pred = model.predict(X_test)\n",
        "\n",
        "# Evaluate the model\n",
        "print(\"Confusion Matrix:\")\n",
        "print(confusion_matrix(y_test, y_pred))\n",
        "print(\"\\nClassification Report:\")\n",
        "print(classification_report(y_test, y_pred))\n",
        "print(\"Accuracy Score:\", accuracy_score(y_test, y_pred))"
      ],
      "metadata": {
        "colab": {
          "base_uri": "https://localhost:8080/"
        },
        "id": "PSnzBYLbG4b7",
        "outputId": "a8e9673e-a931-4515-fcc0-eb11df3bd163"
      },
      "execution_count": 15,
      "outputs": [
        {
          "output_type": "stream",
          "name": "stdout",
          "text": [
            "Confusion Matrix:\n",
            "[[3233   31]\n",
            " [ 755    7]]\n",
            "\n",
            "Classification Report:\n",
            "              precision    recall  f1-score   support\n",
            "\n",
            "           0       0.81      0.99      0.89      3264\n",
            "           1       0.18      0.01      0.02       762\n",
            "\n",
            "    accuracy                           0.80      4026\n",
            "   macro avg       0.50      0.50      0.45      4026\n",
            "weighted avg       0.69      0.80      0.73      4026\n",
            "\n",
            "Accuracy Score: 0.8047690014903129\n"
          ]
        }
      ]
    },
    {
      "cell_type": "code",
      "source": [
        "!pip install gradio"
      ],
      "metadata": {
        "colab": {
          "base_uri": "https://localhost:8080/"
        },
        "id": "v3GOEC5iHePj",
        "outputId": "744b8730-1e18-41eb-d3dd-a192d837d9ec"
      },
      "execution_count": 16,
      "outputs": [
        {
          "output_type": "stream",
          "name": "stdout",
          "text": [
            "Collecting gradio\n",
            "  Downloading gradio-4.44.0-py3-none-any.whl.metadata (15 kB)\n",
            "Collecting aiofiles<24.0,>=22.0 (from gradio)\n",
            "  Downloading aiofiles-23.2.1-py3-none-any.whl.metadata (9.7 kB)\n",
            "Requirement already satisfied: anyio<5.0,>=3.0 in /usr/local/lib/python3.10/dist-packages (from gradio) (3.7.1)\n",
            "Collecting fastapi<1.0 (from gradio)\n",
            "  Downloading fastapi-0.115.0-py3-none-any.whl.metadata (27 kB)\n",
            "Collecting ffmpy (from gradio)\n",
            "  Downloading ffmpy-0.4.0-py3-none-any.whl.metadata (2.9 kB)\n",
            "Collecting gradio-client==1.3.0 (from gradio)\n",
            "  Downloading gradio_client-1.3.0-py3-none-any.whl.metadata (7.1 kB)\n",
            "Collecting httpx>=0.24.1 (from gradio)\n",
            "  Downloading httpx-0.27.2-py3-none-any.whl.metadata (7.1 kB)\n",
            "Requirement already satisfied: huggingface-hub>=0.19.3 in /usr/local/lib/python3.10/dist-packages (from gradio) (0.24.7)\n",
            "Requirement already satisfied: importlib-resources<7.0,>=1.3 in /usr/local/lib/python3.10/dist-packages (from gradio) (6.4.5)\n",
            "Requirement already satisfied: jinja2<4.0 in /usr/local/lib/python3.10/dist-packages (from gradio) (3.1.4)\n",
            "Requirement already satisfied: markupsafe~=2.0 in /usr/local/lib/python3.10/dist-packages (from gradio) (2.1.5)\n",
            "Requirement already satisfied: matplotlib~=3.0 in /usr/local/lib/python3.10/dist-packages (from gradio) (3.7.1)\n",
            "Requirement already satisfied: numpy<3.0,>=1.0 in /usr/local/lib/python3.10/dist-packages (from gradio) (1.26.4)\n",
            "Collecting orjson~=3.0 (from gradio)\n",
            "  Downloading orjson-3.10.7-cp310-cp310-manylinux_2_17_x86_64.manylinux2014_x86_64.whl.metadata (50 kB)\n",
            "\u001b[2K     \u001b[90m━━━━━━━━━━━━━━━━━━━━━━━━━━━━━━━━━━━━━━━━\u001b[0m \u001b[32m50.4/50.4 kB\u001b[0m \u001b[31m3.3 MB/s\u001b[0m eta \u001b[36m0:00:00\u001b[0m\n",
            "\u001b[?25hRequirement already satisfied: packaging in /usr/local/lib/python3.10/dist-packages (from gradio) (24.1)\n",
            "Requirement already satisfied: pandas<3.0,>=1.0 in /usr/local/lib/python3.10/dist-packages (from gradio) (2.1.4)\n",
            "Requirement already satisfied: pillow<11.0,>=8.0 in /usr/local/lib/python3.10/dist-packages (from gradio) (10.4.0)\n",
            "Requirement already satisfied: pydantic>=2.0 in /usr/local/lib/python3.10/dist-packages (from gradio) (2.9.2)\n",
            "Collecting pydub (from gradio)\n",
            "  Downloading pydub-0.25.1-py2.py3-none-any.whl.metadata (1.4 kB)\n",
            "Collecting python-multipart>=0.0.9 (from gradio)\n",
            "  Downloading python_multipart-0.0.10-py3-none-any.whl.metadata (1.9 kB)\n",
            "Requirement already satisfied: pyyaml<7.0,>=5.0 in /usr/local/lib/python3.10/dist-packages (from gradio) (6.0.2)\n",
            "Collecting ruff>=0.2.2 (from gradio)\n",
            "  Downloading ruff-0.6.7-py3-none-manylinux_2_17_x86_64.manylinux2014_x86_64.whl.metadata (25 kB)\n",
            "Collecting semantic-version~=2.0 (from gradio)\n",
            "  Downloading semantic_version-2.10.0-py2.py3-none-any.whl.metadata (9.7 kB)\n",
            "Collecting tomlkit==0.12.0 (from gradio)\n",
            "  Downloading tomlkit-0.12.0-py3-none-any.whl.metadata (2.7 kB)\n",
            "Requirement already satisfied: typer<1.0,>=0.12 in /usr/local/lib/python3.10/dist-packages (from gradio) (0.12.5)\n",
            "Requirement already satisfied: typing-extensions~=4.0 in /usr/local/lib/python3.10/dist-packages (from gradio) (4.12.2)\n",
            "Requirement already satisfied: urllib3~=2.0 in /usr/local/lib/python3.10/dist-packages (from gradio) (2.2.3)\n",
            "Collecting uvicorn>=0.14.0 (from gradio)\n",
            "  Downloading uvicorn-0.30.6-py3-none-any.whl.metadata (6.6 kB)\n",
            "Requirement already satisfied: fsspec in /usr/local/lib/python3.10/dist-packages (from gradio-client==1.3.0->gradio) (2024.6.1)\n",
            "Collecting websockets<13.0,>=10.0 (from gradio-client==1.3.0->gradio)\n",
            "  Downloading websockets-12.0-cp310-cp310-manylinux_2_5_x86_64.manylinux1_x86_64.manylinux_2_17_x86_64.manylinux2014_x86_64.whl.metadata (6.6 kB)\n",
            "Requirement already satisfied: idna>=2.8 in /usr/local/lib/python3.10/dist-packages (from anyio<5.0,>=3.0->gradio) (3.10)\n",
            "Requirement already satisfied: sniffio>=1.1 in /usr/local/lib/python3.10/dist-packages (from anyio<5.0,>=3.0->gradio) (1.3.1)\n",
            "Requirement already satisfied: exceptiongroup in /usr/local/lib/python3.10/dist-packages (from anyio<5.0,>=3.0->gradio) (1.2.2)\n",
            "Collecting starlette<0.39.0,>=0.37.2 (from fastapi<1.0->gradio)\n",
            "  Downloading starlette-0.38.6-py3-none-any.whl.metadata (6.0 kB)\n",
            "Requirement already satisfied: certifi in /usr/local/lib/python3.10/dist-packages (from httpx>=0.24.1->gradio) (2024.8.30)\n",
            "Collecting httpcore==1.* (from httpx>=0.24.1->gradio)\n",
            "  Downloading httpcore-1.0.5-py3-none-any.whl.metadata (20 kB)\n",
            "Collecting h11<0.15,>=0.13 (from httpcore==1.*->httpx>=0.24.1->gradio)\n",
            "  Downloading h11-0.14.0-py3-none-any.whl.metadata (8.2 kB)\n",
            "Requirement already satisfied: filelock in /usr/local/lib/python3.10/dist-packages (from huggingface-hub>=0.19.3->gradio) (3.16.1)\n",
            "Requirement already satisfied: requests in /usr/local/lib/python3.10/dist-packages (from huggingface-hub>=0.19.3->gradio) (2.32.3)\n",
            "Requirement already satisfied: tqdm>=4.42.1 in /usr/local/lib/python3.10/dist-packages (from huggingface-hub>=0.19.3->gradio) (4.66.5)\n",
            "Requirement already satisfied: contourpy>=1.0.1 in /usr/local/lib/python3.10/dist-packages (from matplotlib~=3.0->gradio) (1.3.0)\n",
            "Requirement already satisfied: cycler>=0.10 in /usr/local/lib/python3.10/dist-packages (from matplotlib~=3.0->gradio) (0.12.1)\n",
            "Requirement already satisfied: fonttools>=4.22.0 in /usr/local/lib/python3.10/dist-packages (from matplotlib~=3.0->gradio) (4.53.1)\n",
            "Requirement already satisfied: kiwisolver>=1.0.1 in /usr/local/lib/python3.10/dist-packages (from matplotlib~=3.0->gradio) (1.4.7)\n",
            "Requirement already satisfied: pyparsing>=2.3.1 in /usr/local/lib/python3.10/dist-packages (from matplotlib~=3.0->gradio) (3.1.4)\n",
            "Requirement already satisfied: python-dateutil>=2.7 in /usr/local/lib/python3.10/dist-packages (from matplotlib~=3.0->gradio) (2.8.2)\n",
            "Requirement already satisfied: pytz>=2020.1 in /usr/local/lib/python3.10/dist-packages (from pandas<3.0,>=1.0->gradio) (2024.2)\n",
            "Requirement already satisfied: tzdata>=2022.1 in /usr/local/lib/python3.10/dist-packages (from pandas<3.0,>=1.0->gradio) (2024.1)\n",
            "Requirement already satisfied: annotated-types>=0.6.0 in /usr/local/lib/python3.10/dist-packages (from pydantic>=2.0->gradio) (0.7.0)\n",
            "Requirement already satisfied: pydantic-core==2.23.4 in /usr/local/lib/python3.10/dist-packages (from pydantic>=2.0->gradio) (2.23.4)\n",
            "Requirement already satisfied: click>=8.0.0 in /usr/local/lib/python3.10/dist-packages (from typer<1.0,>=0.12->gradio) (8.1.7)\n",
            "Requirement already satisfied: shellingham>=1.3.0 in /usr/local/lib/python3.10/dist-packages (from typer<1.0,>=0.12->gradio) (1.5.4)\n",
            "Requirement already satisfied: rich>=10.11.0 in /usr/local/lib/python3.10/dist-packages (from typer<1.0,>=0.12->gradio) (13.8.1)\n",
            "Requirement already satisfied: six>=1.5 in /usr/local/lib/python3.10/dist-packages (from python-dateutil>=2.7->matplotlib~=3.0->gradio) (1.16.0)\n",
            "Requirement already satisfied: markdown-it-py>=2.2.0 in /usr/local/lib/python3.10/dist-packages (from rich>=10.11.0->typer<1.0,>=0.12->gradio) (3.0.0)\n",
            "Requirement already satisfied: pygments<3.0.0,>=2.13.0 in /usr/local/lib/python3.10/dist-packages (from rich>=10.11.0->typer<1.0,>=0.12->gradio) (2.18.0)\n",
            "Requirement already satisfied: charset-normalizer<4,>=2 in /usr/local/lib/python3.10/dist-packages (from requests->huggingface-hub>=0.19.3->gradio) (3.3.2)\n",
            "Requirement already satisfied: mdurl~=0.1 in /usr/local/lib/python3.10/dist-packages (from markdown-it-py>=2.2.0->rich>=10.11.0->typer<1.0,>=0.12->gradio) (0.1.2)\n",
            "Downloading gradio-4.44.0-py3-none-any.whl (18.1 MB)\n",
            "\u001b[2K   \u001b[90m━━━━━━━━━━━━━━━━━━━━━━━━━━━━━━━━━━━━━━━━\u001b[0m \u001b[32m18.1/18.1 MB\u001b[0m \u001b[31m53.0 MB/s\u001b[0m eta \u001b[36m0:00:00\u001b[0m\n",
            "\u001b[?25hDownloading gradio_client-1.3.0-py3-none-any.whl (318 kB)\n",
            "\u001b[2K   \u001b[90m━━━━━━━━━━━━━━━━━━━━━━━━━━━━━━━━━━━━━━━━\u001b[0m \u001b[32m318.7/318.7 kB\u001b[0m \u001b[31m16.7 MB/s\u001b[0m eta \u001b[36m0:00:00\u001b[0m\n",
            "\u001b[?25hDownloading tomlkit-0.12.0-py3-none-any.whl (37 kB)\n",
            "Downloading aiofiles-23.2.1-py3-none-any.whl (15 kB)\n",
            "Downloading fastapi-0.115.0-py3-none-any.whl (94 kB)\n",
            "\u001b[2K   \u001b[90m━━━━━━━━━━━━━━━━━━━━━━━━━━━━━━━━━━━━━━━━\u001b[0m \u001b[32m94.6/94.6 kB\u001b[0m \u001b[31m5.8 MB/s\u001b[0m eta \u001b[36m0:00:00\u001b[0m\n",
            "\u001b[?25hDownloading httpx-0.27.2-py3-none-any.whl (76 kB)\n",
            "\u001b[2K   \u001b[90m━━━━━━━━━━━━━━━━━━━━━━━━━━━━━━━━━━━━━━━━\u001b[0m \u001b[32m76.4/76.4 kB\u001b[0m \u001b[31m5.2 MB/s\u001b[0m eta \u001b[36m0:00:00\u001b[0m\n",
            "\u001b[?25hDownloading httpcore-1.0.5-py3-none-any.whl (77 kB)\n",
            "\u001b[2K   \u001b[90m━━━━━━━━━━━━━━━━━━━━━━━━━━━━━━━━━━━━━━━━\u001b[0m \u001b[32m77.9/77.9 kB\u001b[0m \u001b[31m5.0 MB/s\u001b[0m eta \u001b[36m0:00:00\u001b[0m\n",
            "\u001b[?25hDownloading orjson-3.10.7-cp310-cp310-manylinux_2_17_x86_64.manylinux2014_x86_64.whl (141 kB)\n",
            "\u001b[2K   \u001b[90m━━━━━━━━━━━━━━━━━━━━━━━━━━━━━━━━━━━━━━━━\u001b[0m \u001b[32m141.9/141.9 kB\u001b[0m \u001b[31m9.0 MB/s\u001b[0m eta \u001b[36m0:00:00\u001b[0m\n",
            "\u001b[?25hDownloading python_multipart-0.0.10-py3-none-any.whl (22 kB)\n",
            "Downloading ruff-0.6.7-py3-none-manylinux_2_17_x86_64.manylinux2014_x86_64.whl (10.8 MB)\n",
            "\u001b[2K   \u001b[90m━━━━━━━━━━━━━━━━━━━━━━━━━━━━━━━━━━━━━━━━\u001b[0m \u001b[32m10.8/10.8 MB\u001b[0m \u001b[31m68.7 MB/s\u001b[0m eta \u001b[36m0:00:00\u001b[0m\n",
            "\u001b[?25hDownloading semantic_version-2.10.0-py2.py3-none-any.whl (15 kB)\n",
            "Downloading uvicorn-0.30.6-py3-none-any.whl (62 kB)\n",
            "\u001b[2K   \u001b[90m━━━━━━━━━━━━━━━━━━━━━━━━━━━━━━━━━━━━━━━━\u001b[0m \u001b[32m62.8/62.8 kB\u001b[0m \u001b[31m4.2 MB/s\u001b[0m eta \u001b[36m0:00:00\u001b[0m\n",
            "\u001b[?25hDownloading ffmpy-0.4.0-py3-none-any.whl (5.8 kB)\n",
            "Downloading pydub-0.25.1-py2.py3-none-any.whl (32 kB)\n",
            "Downloading h11-0.14.0-py3-none-any.whl (58 kB)\n",
            "\u001b[2K   \u001b[90m━━━━━━━━━━━━━━━━━━━━━━━━━━━━━━━━━━━━━━━━\u001b[0m \u001b[32m58.3/58.3 kB\u001b[0m \u001b[31m3.7 MB/s\u001b[0m eta \u001b[36m0:00:00\u001b[0m\n",
            "\u001b[?25hDownloading starlette-0.38.6-py3-none-any.whl (71 kB)\n",
            "\u001b[2K   \u001b[90m━━━━━━━━━━━━━━━━━━━━━━━━━━━━━━━━━━━━━━━━\u001b[0m \u001b[32m71.5/71.5 kB\u001b[0m \u001b[31m4.2 MB/s\u001b[0m eta \u001b[36m0:00:00\u001b[0m\n",
            "\u001b[?25hDownloading websockets-12.0-cp310-cp310-manylinux_2_5_x86_64.manylinux1_x86_64.manylinux_2_17_x86_64.manylinux2014_x86_64.whl (130 kB)\n",
            "\u001b[2K   \u001b[90m━━━━━━━━━━━━━━━━━━━━━━━━━━━━━━━━━━━━━━━━\u001b[0m \u001b[32m130.2/130.2 kB\u001b[0m \u001b[31m8.9 MB/s\u001b[0m eta \u001b[36m0:00:00\u001b[0m\n",
            "\u001b[?25hInstalling collected packages: pydub, websockets, tomlkit, semantic-version, ruff, python-multipart, orjson, h11, ffmpy, aiofiles, uvicorn, starlette, httpcore, httpx, fastapi, gradio-client, gradio\n",
            "Successfully installed aiofiles-23.2.1 fastapi-0.115.0 ffmpy-0.4.0 gradio-4.44.0 gradio-client-1.3.0 h11-0.14.0 httpcore-1.0.5 httpx-0.27.2 orjson-3.10.7 pydub-0.25.1 python-multipart-0.0.10 ruff-0.6.7 semantic-version-2.10.0 starlette-0.38.6 tomlkit-0.12.0 uvicorn-0.30.6 websockets-12.0\n"
          ]
        }
      ]
    },
    {
      "cell_type": "code",
      "source": [
        "import gradio as gr\n",
        "import pandas as pd\n",
        "from sklearn.linear_model import LogisticRegression\n",
        "from sklearn.preprocessing import LabelEncoder, StandardScaler\n",
        "from sklearn.model_selection import train_test_split\n",
        "\n",
        "# Load and preprocess data\n",
        "df1 = pd.read_csv('/content/Bank_churn_Dataset1_cleaned.csv')\n",
        "df2 = pd.read_csv('/content/Bank_churn_Dataset2_cleaned.csv')\n",
        "\n",
        "# Combine both datasets\n",
        "combined_df = pd.concat([df1, df2], ignore_index=True)\n",
        "\n",
        "# Encode categorical variables\n",
        "label_encoder = LabelEncoder()\n",
        "combined_df['gender'] = label_encoder.fit_transform(combined_df['gender'])\n",
        "\n",
        "# Scale numerical features\n",
        "scaler = StandardScaler()\n",
        "combined_df[['age', 'tenure', 'numofproducts', 'estimatedsalary']] = scaler.fit_transform(\n",
        "    combined_df[['age', 'tenure', 'numofproducts', 'estimatedsalary']]\n",
        ")\n",
        "\n",
        "# Prepare features and target\n",
        "X = combined_df[['age', 'gender', 'tenure', 'numofproducts', 'estimatedsalary']]\n",
        "y = combined_df['churn']\n",
        "\n",
        "# Train-test split\n",
        "X_train, X_test, y_train, y_test = train_test_split(X, y, test_size=0.2, random_state=42)\n",
        "\n",
        "# Train the Logistic Regression model\n",
        "model = LogisticRegression()\n",
        "model.fit(X_train, y_train)\n",
        "\n",
        "# Define prediction function\n",
        "def predict_churn(age, gender, tenure, numofproducts, estimatedsalary):\n",
        "    # Preprocess input\n",
        "    gender_encoded = label_encoder.transform([gender])[0]\n",
        "    input_data = pd.DataFrame([[age, gender_encoded, tenure, numofproducts, estimatedsalary]],\n",
        "                               columns=['age', 'gender', 'tenure', 'numofproducts', 'estimatedsalary'])\n",
        "    input_data[['age', 'tenure', 'numofproducts', 'estimatedsalary']] = scaler.transform(input_data[['age', 'tenure', 'numofproducts', 'estimatedsalary']])\n",
        "\n",
        "    # Make prediction\n",
        "    prediction = model.predict(input_data)\n",
        "    return \"Churn\" if prediction[0] == 1 else \"No Churn\"\n",
        "\n",
        "# Create Gradio interface\n",
        "inputs = [\n",
        "    gr.Slider(minimum=18, maximum=100, label=\"Age\"),\n",
        "    gr.Radio(choices=[\"Male\", \"Female\"], label=\"Gender\"),\n",
        "    gr.Slider(minimum=0, maximum=12, label=\"Tenure (in months)\"),\n",
        "    gr.Slider(minimum=1, maximum=5, label=\"Number of Products\"),\n",
        "    gr.Number(label=\"Estimated Salary\")\n",
        "]\n",
        "\n",
        "outputs = gr.Textbox(label=\"Prediction\")\n",
        "\n",
        "gr.Interface(fn=predict_churn, inputs=inputs, outputs=outputs, title=\"Churn Prediction Model\",\n",
        "             description=\"Enter customer details to predict if they will churn.\").launch()\n"
      ],
      "metadata": {
        "colab": {
          "base_uri": "https://localhost:8080/",
          "height": 646
        },
        "id": "dsWWHJraH3X8",
        "outputId": "ea127c2b-8d1c-4437-e6a4-a1d06b0861db"
      },
      "execution_count": 19,
      "outputs": [
        {
          "output_type": "stream",
          "name": "stdout",
          "text": [
            "Setting queue=True in a Colab notebook requires sharing enabled. Setting `share=True` (you can turn this off by setting `share=False` in `launch()` explicitly).\n",
            "\n",
            "Colab notebook detected. To show errors in colab notebook, set debug=True in launch()\n",
            "Running on public URL: https://73016feee53492ad7d.gradio.live\n",
            "\n",
            "This share link expires in 72 hours. For free permanent hosting and GPU upgrades, run `gradio deploy` from Terminal to deploy to Spaces (https://huggingface.co/spaces)\n"
          ]
        },
        {
          "output_type": "display_data",
          "data": {
            "text/plain": [
              "<IPython.core.display.HTML object>"
            ],
            "text/html": [
              "<div><iframe src=\"https://73016feee53492ad7d.gradio.live\" width=\"100%\" height=\"500\" allow=\"autoplay; camera; microphone; clipboard-read; clipboard-write;\" frameborder=\"0\" allowfullscreen></iframe></div>"
            ]
          },
          "metadata": {}
        },
        {
          "output_type": "execute_result",
          "data": {
            "text/plain": []
          },
          "metadata": {},
          "execution_count": 19
        }
      ]
    }
  ]
}